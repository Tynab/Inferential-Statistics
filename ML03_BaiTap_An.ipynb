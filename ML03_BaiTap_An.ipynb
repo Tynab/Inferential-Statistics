{
  "cells": [
    {
      "cell_type": "markdown",
      "metadata": {},
      "source": [
        "# THỰC HÀNH"
      ]
    },
    {
      "cell_type": "markdown",
      "metadata": {
        "id": "E8MW86Pfvz41"
      },
      "source": [
        "## Thống Kê Suy Luận"
      ]
    },
    {
      "cell_type": "markdown",
      "metadata": {
        "id": "EiX-yuJywDws"
      },
      "source": [
        "### Mở đầu"
      ]
    },
    {
      "cell_type": "markdown",
      "metadata": {
        "id": "TkOCL45WQdBL"
      },
      "source": [
        "Hướng dẫn sử dụng notebook:\n",
        "- Thực hành code theo hướng dẫn ở những ô có hashtag *# Quiz*.\n",
        "- Không sửa code ở những ô có hashtag *# Test*. Code ở những ô này để kiểm tra kết quả."
      ]
    },
    {
      "cell_type": "markdown",
      "metadata": {
        "id": "tMkxXyYfvv6J"
      },
      "source": [
        "#### Import thư viện"
      ]
    },
    {
      "cell_type": "code",
      "execution_count": 1,
      "metadata": {
        "id": "qUmcQFqpuUdi"
      },
      "outputs": [],
      "source": [
        "import operator\n",
        "\n",
        "import matplotlib.pyplot as plt\n",
        "import numpy as np\n",
        "import pandas as pd\n",
        "import scipy.stats as stats\n",
        "import seaborn as sns\n",
        "\n",
        "from functools import partial\n",
        "from statsmodels.stats import weightstats"
      ]
    },
    {
      "cell_type": "markdown",
      "metadata": {
        "id": "zfCGvyOpwBee"
      },
      "source": [
        "#### Các hàm so sánh"
      ]
    },
    {
      "cell_type": "code",
      "execution_count": 2,
      "metadata": {
        "id": "aBmm_m2vwAGp"
      },
      "outputs": [],
      "source": [
        "def test(a, b, cmp, cname=None):\n",
        "    if cname is None:\n",
        "        cname = cmp.__name__\n",
        "    assert cmp(a, b), f'{cname}:\\n{a}\\n{b}'"
      ]
    },
    {
      "cell_type": "code",
      "execution_count": 3,
      "metadata": {},
      "outputs": [],
      "source": [
        "def test_eq(a, b):\n",
        "    test(a, b, operator.eq, '==')"
      ]
    },
    {
      "cell_type": "code",
      "execution_count": 4,
      "metadata": {},
      "outputs": [],
      "source": [
        "def near(a, b):\n",
        "    return np.allclose(a, b, rtol=1e-3, atol=1e-5)"
      ]
    },
    {
      "cell_type": "code",
      "execution_count": 5,
      "metadata": {},
      "outputs": [],
      "source": [
        "def test_near(a, b):\n",
        "    test(a, b, near)"
      ]
    },
    {
      "cell_type": "code",
      "execution_count": 6,
      "metadata": {
        "id": "ImmVlHjkwUjY"
      },
      "outputs": [],
      "source": [
        "test_eq(1, 1.0)\n",
        "test_near(1, 1.000001)\n",
        "test_near(1, 1.001000)"
      ]
    },
    {
      "cell_type": "markdown",
      "metadata": {
        "id": "x7ZSzy7wwfxe"
      },
      "source": [
        "### Kiểm định giả thuyết"
      ]
    },
    {
      "cell_type": "markdown",
      "metadata": {
        "id": "dRdmbew3xDy0"
      },
      "source": [
        "#### Một số khái niệm"
      ]
    },
    {
      "cell_type": "markdown",
      "metadata": {
        "id": "yTXFz3N1wi9l"
      },
      "source": [
        "- Giả thuyết không ($H_0$) được đặt ra với mục tiêu là xem dữ liệu thu thập trong các nghiên cứu thực nghiệm có mâu thuẫn gì với giả thuyết này không.\n",
        "- Giả thuyết thay thế ($H_1$ hoặc $H_a$) là tuyên bố được kiểm chứng ngược lại với giả thuyết không.\n",
        "- Mức độ quan trọng (level of significance or $\\alpha$) là độ đo độ mạnh của bằng chứng xuất hiện trong tập mẫu để có thể loại bỏ giả thuyết không. $alpha$ xác định giá trị quan trọng (critical value).\n",
        "- p-value là xác suất gắn với giá trị kiểm chứng (test statistic). p-value càng nhỏ, bằng chứng để loại giả thuyết không càng mạnh.\n",
        "- Lỗi loại I là lỗi loại bỏ giả thuyết không mặc dù giả thuyết đó đúng.\n",
        "- Lỗi loại II là lỗi chấp nhận giả thuyết không mặc dù giả thuyết đó sai.\n",
        "- Kiểm chứng 1 phía là kiểm chứng mà vùng loại bỏ chỉ ở 1 bên của phân bố xác suất.\n",
        "- Kiểm chứng 2 phía là kiểm chứng mà vùng loại bỏ nằm ở cả 2 bên của phân bố xác suất.\n",
        "- Bậc tự do là thước đo mức độ dao động trong nghiên cứu, được quyết định bởi số lượng các nhóm mà bạn kiểm tra. Biểu thức bậc tự do được viết như sau: Bậc tự do bằng n-1, trong đó: \"n\" là số nhóm hoặc biến số được phân tích trong thí nghiệm.\n",
        "\n",
        "Hình ảnh thể hiện kiểm chứng thống kê và kết luận tương ứng.\n",
        "\n",
        "![](0.jpg)\n",
        "\n",
        "Quyết định cho $H_a$: không bằng."
      ]
    },
    {
      "cell_type": "markdown",
      "metadata": {
        "id": "FIy3u-7SxGmo"
      },
      "source": [
        "#### Phân phối xác suất chuẩn"
      ]
    },
    {
      "cell_type": "markdown",
      "metadata": {},
      "source": [
        "$f(x)={\\frac{1}{\\sigma {\\sqrt{2\\pi}}}e^{-{\\frac{1}{2}}\\left({\\frac{x-\\mu}{\\sigma}}\\right)^{2}}}$"
      ]
    },
    {
      "cell_type": "code",
      "execution_count": 7,
      "metadata": {
        "id": "1XoWojRnwYjh"
      },
      "outputs": [],
      "source": [
        "# Quiz: Cài đặt hàm phân phối xác suất chuẩn theo x, mu và sigma\n",
        "def normal_pdf(x, mu, sigma):\n",
        "    part_1 = 1 / (sigma * np.sqrt(2 * np.pi))\n",
        "    part_2 = np.exp(- 1 / 2 * ((x - mu) / sigma) ** 2)\n",
        "    return part_1 * part_2"
      ]
    },
    {
      "cell_type": "code",
      "execution_count": 8,
      "metadata": {
        "id": "0w2KZE6fxlFt"
      },
      "outputs": [],
      "source": [
        "# Test\n",
        "x = .0004\n",
        "mu = 0\n",
        "sigma = 1\n",
        "test_eq(normal_pdf(x, mu, sigma), stats.norm.pdf(x, mu, sigma))"
      ]
    },
    {
      "cell_type": "code",
      "execution_count": 9,
      "metadata": {
        "id": "8ZxQcDPqxptd"
      },
      "outputs": [],
      "source": [
        "# Test\n",
        "x = np.array([.01, .02])\n",
        "mu = 1\n",
        "sigma = 2\n",
        "test_near(normal_pdf(x, mu, sigma), stats.norm.pdf(x, mu, sigma))"
      ]
    },
    {
      "cell_type": "markdown",
      "metadata": {
        "id": "HKTF5KMByDsi"
      },
      "source": [
        "#### Phân phối chuẩn tắc"
      ]
    },
    {
      "cell_type": "code",
      "execution_count": 10,
      "metadata": {
        "id": "XVCKkQiXxskp"
      },
      "outputs": [],
      "source": [
        "standard_normal_pdf = partial(normal_pdf, mu=0., sigma=1.)"
      ]
    },
    {
      "cell_type": "code",
      "execution_count": 11,
      "metadata": {
        "id": "OTJw1hGUyJKh"
      },
      "outputs": [],
      "source": [
        "X = np.linspace(-5, 5, 200)"
      ]
    },
    {
      "cell_type": "code",
      "execution_count": 12,
      "metadata": {
        "colab": {
          "base_uri": "https://localhost:8080/",
          "height": 373
        },
        "id": "pULiBa5byYP4",
        "outputId": "c1336fa1-a8dd-4c2c-faeb-842ab0dc584b"
      },
      "outputs": [
        {
          "data": {
            "text/plain": [
              "<matplotlib.legend.Legend at 0x24d11473f50>"
            ]
          },
          "execution_count": 12,
          "metadata": {},
          "output_type": "execute_result"
        },
        {
          "data": {
            "image/png": "[encoded data removed]",
            "text/plain": [
              "<Figure size 800x600 with 1 Axes>"
            ]
          },
          "metadata": {},
          "output_type": "display_data"
        }
      ],
      "source": [
        "plt.figure(dpi=100, figsize=(8, 6))\n",
        "\n",
        "plt.plot(X, standard_normal_pdf(X), label=rf'$\\mu$ = {0}, $\\sigma$ = {1}')\n",
        "\n",
        "mu = 0\n",
        "sigma = np.sqrt(.2)\n",
        "plt.plot(X, normal_pdf(X, mu, sigma), label=rf'$\\mu$ = {mu}, $\\sigma$ = {sigma:.2f}')\n",
        "\n",
        "mu = 0\n",
        "sigma = np.sqrt(5)\n",
        "plt.plot(X, normal_pdf(X, mu, sigma), label=rf'$\\mu$ = {mu}, $\\sigma$ = {sigma:.2f}')\n",
        "\n",
        "mu = -2\n",
        "sigma = np.sqrt(.5)\n",
        "plt.plot(X, normal_pdf(X, mu, sigma), label=rf'$\\mu$ = {mu}, $\\sigma$ = {sigma:.2f}')\n",
        "\n",
        "plt.legend()"
      ]
    },
    {
      "cell_type": "markdown",
      "metadata": {
        "id": "vF4yTnP6yb7_"
      },
      "source": [
        "### Các bước kiểm định giả thuyết"
      ]
    },
    {
      "cell_type": "markdown",
      "metadata": {
        "id": "Z6GQ3lNByfj3"
      },
      "source": [
        "1. Phát biểu giả thuyết không và giả thuyết thay thế.\n",
        "2. Xác định các loại lỗi và hệ quả.\n",
        "3. Lựa chọn giá trị quan trọng (significance level).\n",
        "4. Xác định loại kiểm chứng thống kê sẽ sử dụng.\n",
        "5. Suy luận."
      ]
    },
    {
      "cell_type": "markdown",
      "metadata": {
        "id": "5noJKp1k0aYR"
      },
      "source": [
        "### Bài tập kiểm định giả thuyết"
      ]
    },
    {
      "cell_type": "markdown",
      "metadata": {
        "id": "UfKnSMPx1uHl"
      },
      "source": [
        "Dữ liệu: tập dữ liệu bao gồm các điểm của học sinh trong các môn học khác nhau."
      ]
    },
    {
      "cell_type": "code",
      "execution_count": 13,
      "metadata": {
        "colab": {
          "base_uri": "https://localhost:8080/",
          "height": 241
        },
        "id": "awwJkaiU0YGk",
        "outputId": "9cdb6ddb-a357-49a5-aac7-1292b05d336d"
      },
      "outputs": [
        {
          "data": {
            "text/html": [
              "<div>\n",
              "<style scoped>\n",
              "    .dataframe tbody tr th:only-of-type {\n",
              "        vertical-align: middle;\n",
              "    }\n",
              "\n",
              "    .dataframe tbody tr th {\n",
              "        vertical-align: top;\n",
              "    }\n",
              "\n",
              "    .dataframe thead th {\n",
              "        text-align: right;\n",
              "    }\n",
              "</style>\n",
              "<table border=\"1\" class=\"dataframe\">\n",
              "  <thead>\n",
              "    <tr style=\"text-align: right;\">\n",
              "      <th></th>\n",
              "      <th>gender</th>\n",
              "      <th>race/ethnicity</th>\n",
              "      <th>parental level of education</th>\n",
              "      <th>lunch</th>\n",
              "      <th>test preparation course</th>\n",
              "      <th>math score</th>\n",
              "      <th>reading score</th>\n",
              "      <th>writing score</th>\n",
              "    </tr>\n",
              "  </thead>\n",
              "  <tbody>\n",
              "    <tr>\n",
              "      <th>0</th>\n",
              "      <td>female</td>\n",
              "      <td>group B</td>\n",
              "      <td>bachelor's degree</td>\n",
              "      <td>standard</td>\n",
              "      <td>none</td>\n",
              "      <td>72</td>\n",
              "      <td>72</td>\n",
              "      <td>74</td>\n",
              "    </tr>\n",
              "    <tr>\n",
              "      <th>1</th>\n",
              "      <td>female</td>\n",
              "      <td>group C</td>\n",
              "      <td>some college</td>\n",
              "      <td>standard</td>\n",
              "      <td>completed</td>\n",
              "      <td>69</td>\n",
              "      <td>90</td>\n",
              "      <td>88</td>\n",
              "    </tr>\n",
              "    <tr>\n",
              "      <th>2</th>\n",
              "      <td>female</td>\n",
              "      <td>group B</td>\n",
              "      <td>master's degree</td>\n",
              "      <td>standard</td>\n",
              "      <td>none</td>\n",
              "      <td>90</td>\n",
              "      <td>95</td>\n",
              "      <td>93</td>\n",
              "    </tr>\n",
              "    <tr>\n",
              "      <th>3</th>\n",
              "      <td>male</td>\n",
              "      <td>group A</td>\n",
              "      <td>associate's degree</td>\n",
              "      <td>free/reduced</td>\n",
              "      <td>none</td>\n",
              "      <td>47</td>\n",
              "      <td>57</td>\n",
              "      <td>44</td>\n",
              "    </tr>\n",
              "    <tr>\n",
              "      <th>4</th>\n",
              "      <td>male</td>\n",
              "      <td>group C</td>\n",
              "      <td>some college</td>\n",
              "      <td>standard</td>\n",
              "      <td>none</td>\n",
              "      <td>76</td>\n",
              "      <td>78</td>\n",
              "      <td>75</td>\n",
              "    </tr>\n",
              "  </tbody>\n",
              "</table>\n",
              "</div>"
            ],
            "text/plain": [
              "   gender race/ethnicity parental level of education         lunch  \\\n",
              "0  female        group B           bachelor's degree      standard   \n",
              "1  female        group C                some college      standard   \n",
              "2  female        group B             master's degree      standard   \n",
              "3    male        group A          associate's degree  free/reduced   \n",
              "4    male        group C                some college      standard   \n",
              "\n",
              "  test preparation course  math score  reading score  writing score  \n",
              "0                    none          72             72             74  \n",
              "1               completed          69             90             88  \n",
              "2                    none          90             95             93  \n",
              "3                    none          47             57             44  \n",
              "4                    none          76             78             75  "
            ]
          },
          "execution_count": 13,
          "metadata": {},
          "output_type": "execute_result"
        }
      ],
      "source": [
        "df = pd.read_csv('students_performance.csv')\n",
        "df.head()"
      ]
    },
    {
      "cell_type": "code",
      "execution_count": 14,
      "metadata": {
        "colab": {
          "base_uri": "https://localhost:8080/",
          "height": 300
        },
        "id": "3U5CieRj5fsC",
        "outputId": "cde4f575-822e-40b7-b20a-e20793dd78ce"
      },
      "outputs": [
        {
          "data": {
            "text/html": [
              "<div>\n",
              "<style scoped>\n",
              "    .dataframe tbody tr th:only-of-type {\n",
              "        vertical-align: middle;\n",
              "    }\n",
              "\n",
              "    .dataframe tbody tr th {\n",
              "        vertical-align: top;\n",
              "    }\n",
              "\n",
              "    .dataframe thead th {\n",
              "        text-align: right;\n",
              "    }\n",
              "</style>\n",
              "<table border=\"1\" class=\"dataframe\">\n",
              "  <thead>\n",
              "    <tr style=\"text-align: right;\">\n",
              "      <th></th>\n",
              "      <th>math score</th>\n",
              "      <th>reading score</th>\n",
              "      <th>writing score</th>\n",
              "    </tr>\n",
              "  </thead>\n",
              "  <tbody>\n",
              "    <tr>\n",
              "      <th>count</th>\n",
              "      <td>1000.00000</td>\n",
              "      <td>1000.000000</td>\n",
              "      <td>1000.000000</td>\n",
              "    </tr>\n",
              "    <tr>\n",
              "      <th>mean</th>\n",
              "      <td>66.08900</td>\n",
              "      <td>69.169000</td>\n",
              "      <td>68.054000</td>\n",
              "    </tr>\n",
              "    <tr>\n",
              "      <th>std</th>\n",
              "      <td>15.16308</td>\n",
              "      <td>14.600192</td>\n",
              "      <td>15.195657</td>\n",
              "    </tr>\n",
              "    <tr>\n",
              "      <th>min</th>\n",
              "      <td>0.00000</td>\n",
              "      <td>17.000000</td>\n",
              "      <td>10.000000</td>\n",
              "    </tr>\n",
              "    <tr>\n",
              "      <th>25%</th>\n",
              "      <td>57.00000</td>\n",
              "      <td>59.000000</td>\n",
              "      <td>57.750000</td>\n",
              "    </tr>\n",
              "    <tr>\n",
              "      <th>50%</th>\n",
              "      <td>66.00000</td>\n",
              "      <td>70.000000</td>\n",
              "      <td>69.000000</td>\n",
              "    </tr>\n",
              "    <tr>\n",
              "      <th>75%</th>\n",
              "      <td>77.00000</td>\n",
              "      <td>79.000000</td>\n",
              "      <td>79.000000</td>\n",
              "    </tr>\n",
              "    <tr>\n",
              "      <th>max</th>\n",
              "      <td>100.00000</td>\n",
              "      <td>100.000000</td>\n",
              "      <td>100.000000</td>\n",
              "    </tr>\n",
              "  </tbody>\n",
              "</table>\n",
              "</div>"
            ],
            "text/plain": [
              "       math score  reading score  writing score\n",
              "count  1000.00000    1000.000000    1000.000000\n",
              "mean     66.08900      69.169000      68.054000\n",
              "std      15.16308      14.600192      15.195657\n",
              "min       0.00000      17.000000      10.000000\n",
              "25%      57.00000      59.000000      57.750000\n",
              "50%      66.00000      70.000000      69.000000\n",
              "75%      77.00000      79.000000      79.000000\n",
              "max     100.00000     100.000000     100.000000"
            ]
          },
          "execution_count": 14,
          "metadata": {},
          "output_type": "execute_result"
        }
      ],
      "source": [
        "df.describe()"
      ]
    },
    {
      "cell_type": "code",
      "execution_count": 15,
      "metadata": {
        "colab": {
          "base_uri": "https://localhost:8080/",
          "height": 1000
        },
        "id": "V2DYoXav5wYP",
        "outputId": "e5b747e8-39c7-4769-f1b7-2a4277748e7a"
      },
      "outputs": [
        {
          "data": {
            "text/plain": [
              "<matplotlib.legend.Legend at 0x24d52304b60>"
            ]
          },
          "execution_count": 15,
          "metadata": {},
          "output_type": "execute_result"
        },
        {
          "data": {
            "image/png": "[encoded data removed]",
            "text/plain": [
              "<Figure size 800x600 with 1 Axes>"
            ]
          },
          "metadata": {},
          "output_type": "display_data"
        }
      ],
      "source": [
        "plt.figure(figsize=(8, 6))\n",
        "\n",
        "sns.histplot(df['math score'], kde=True, label='math score', stat='density', alpha=.3)\n",
        "sns.histplot(df['reading score'], kde=True, label='reading score', stat='density', alpha=.3)\n",
        "sns.histplot(df['writing score'], kde=True, label='writing score', stat='density', alpha=.3)\n",
        "\n",
        "plt.xlim(30, 100)\n",
        "plt.xlabel('Test score')\n",
        "plt.legend()"
      ]
    },
    {
      "cell_type": "code",
      "execution_count": 16,
      "metadata": {
        "colab": {
          "base_uri": "https://localhost:8080/"
        },
        "id": "BQIYAFLy5zkn",
        "outputId": "b86eaf1d-781b-4cab-9129-1c322280d266"
      },
      "outputs": [
        {
          "data": {
            "text/plain": [
              "math score       66.089\n",
              "reading score    69.169\n",
              "writing score    68.054\n",
              "dtype: float64"
            ]
          },
          "execution_count": 16,
          "metadata": {},
          "output_type": "execute_result"
        }
      ],
      "source": [
        "df.mean(numeric_only=True)"
      ]
    },
    {
      "cell_type": "markdown",
      "metadata": {
        "id": "8Aw0b3JQ5286"
      },
      "source": [
        "Giả thuyết 1: Điểm trung bình môn đọc là 70.\n",
        "\n",
        "- $H_0$: Điểm trung bình môn đọc là 70.\n",
        "- $H_a$: Điểm trung bình môn đọc không phải 70.\n",
        "- Mức độ quan trọng $\\alpha$ = 0.05 hoặc 5%.\n",
        "- Lựa chọn kiểm chứng t-test.\n",
        "\n",
        "Chúng ta cần tính t_statistic theo công thức:\n",
        "\n",
        "$t=\\frac{{\\bar{x}}-\\mu_{0}}{s/{\\sqrt {n}}}$\n",
        "\n",
        "trong đó $\\bar{x}$ là trung bình của tập mẫu, s là độ lệch chuẩn của mẫu và n là kích thước của mẫu."
      ]
    },
    {
      "cell_type": "code",
      "execution_count": 17,
      "metadata": {
        "id": "UhPb3qBF6mES"
      },
      "outputs": [],
      "source": [
        "mu_0 = 70\n",
        "n = 1000\n",
        "alpha = .05"
      ]
    },
    {
      "cell_type": "code",
      "execution_count": 18,
      "metadata": {
        "colab": {
          "base_uri": "https://localhost:8080/"
        },
        "id": "4Bxl0ghs5zcd",
        "outputId": "acf99dcd-1c9c-4f61-81f9-f38200c8d9b3"
      },
      "outputs": [
        {
          "data": {
            "text/plain": [
              "(69.169, 14.600191937252216)"
            ]
          },
          "execution_count": 18,
          "metadata": {},
          "output_type": "execute_result"
        }
      ],
      "source": [
        "# Quiz: Tìm trung bình và độ lệch chuẩn của tập mẫu\n",
        "mean = df['reading score'].mean()\n",
        "std = df['reading score'].std()\n",
        "mean, std"
      ]
    },
    {
      "cell_type": "code",
      "execution_count": 19,
      "metadata": {
        "id": "v988cjqg6AUH"
      },
      "outputs": [],
      "source": [
        "# Test\n",
        "test_near(mean, 69.169)\n",
        "test_near(std, 14.60019193725222)"
      ]
    },
    {
      "cell_type": "code",
      "execution_count": 20,
      "metadata": {
        "colab": {
          "base_uri": "https://localhost:8080/"
        },
        "id": "jf9aEAtA7iWf",
        "outputId": "19f5218d-7eea-461e-de67-bf97af36a63a"
      },
      "outputs": [
        {
          "data": {
            "text/plain": [
              "-1.7998754721128"
            ]
          },
          "execution_count": 20,
          "metadata": {},
          "output_type": "execute_result"
        }
      ],
      "source": [
        "# Quiz: Tính t_statistic theo công thức.\n",
        "t_statistic = (mean - mu_0) / (std / np.sqrt(n))\n",
        "t_statistic"
      ]
    },
    {
      "cell_type": "code",
      "execution_count": 21,
      "metadata": {
        "id": "5SBfCuZE7rOL"
      },
      "outputs": [],
      "source": [
        "# Test\n",
        "test_near(t_statistic, -1.7998754721127996)"
      ]
    },
    {
      "cell_type": "code",
      "execution_count": 22,
      "metadata": {
        "colab": {
          "base_uri": "https://localhost:8080/"
        },
        "id": "xvDBLwRB70tE",
        "outputId": "f3cc8c46-c3cb-4d12-aa3b-65f3feaa2c39"
      },
      "outputs": [
        {
          "data": {
            "text/plain": [
              "0.07218192108822277"
            ]
          },
          "execution_count": 22,
          "metadata": {},
          "output_type": "execute_result"
        }
      ],
      "source": [
        "# Quiz: Sử dụng module stats.t.cdf để tìm giá trị p_value tương ứng.\n",
        "p_value = stats.t.cdf(t_statistic, df=n-1) * 2\n",
        "p_value"
      ]
    },
    {
      "cell_type": "code",
      "execution_count": 23,
      "metadata": {
        "id": "GtVt9p4l70mF"
      },
      "outputs": [],
      "source": [
        "# Test\n",
        "test_near(p_value, .0721819210882228)"
      ]
    },
    {
      "cell_type": "code",
      "execution_count": 24,
      "metadata": {
        "colab": {
          "base_uri": "https://localhost:8080/"
        },
        "id": "h1WADtwO8Fdy",
        "outputId": "f1835097-d662-4856-843e-d08231349cdf"
      },
      "outputs": [
        {
          "data": {
            "text/plain": [
              "TtestResult(statistic=-1.7998754721128, pvalue=0.07218192108822277, df=999)"
            ]
          },
          "execution_count": 24,
          "metadata": {},
          "output_type": "execute_result"
        }
      ],
      "source": [
        "stats.ttest_1samp(df['reading score'], 70, alternative='two-sided')"
      ]
    },
    {
      "cell_type": "code",
      "execution_count": 25,
      "metadata": {
        "colab": {
          "base_uri": "https://localhost:8080/"
        },
        "id": "p9oXy0mj8FbS",
        "outputId": "2601fed4-1ad3-4a6e-95e6-6d2ce2aefaa1"
      },
      "outputs": [
        {
          "data": {
            "text/plain": [
              "(-1.7998754721128, 0.07188030342251192)"
            ]
          },
          "execution_count": 25,
          "metadata": {},
          "output_type": "execute_result"
        }
      ],
      "source": [
        "weightstats.ztest(df['reading score'], value=70, alternative='two-sided')"
      ]
    },
    {
      "cell_type": "code",
      "execution_count": 26,
      "metadata": {
        "colab": {
          "base_uri": "https://localhost:8080/",
          "height": 373
        },
        "id": "SAsvq3Fh8FYr",
        "outputId": "adac02c1-3a75-473c-9f8f-32ecfeedfcba"
      },
      "outputs": [
        {
          "data": {
            "text/plain": [
              "<matplotlib.legend.Legend at 0x24d548d65a0>"
            ]
          },
          "execution_count": 26,
          "metadata": {},
          "output_type": "execute_result"
        },
        {
          "data": {
            "image/png": "[encoded data removed]",
            "text/plain": [
              "<Figure size 800x600 with 1 Axes>"
            ]
          },
          "metadata": {},
          "output_type": "display_data"
        }
      ],
      "source": [
        "# Quiz: Tính khoảng tin cậy 95% cho trung bình của tập mẫu.\n",
        "dof = n - 1\n",
        "x = np.linspace(stats.t.ppf(.01, df=dof), stats.t.ppf(.99, df=dof), 1000)\n",
        "y = stats.t.pdf(x, dof)\n",
        "\n",
        "plt.figure(figsize=(8, 6), dpi=100)\n",
        "plt.plot(x, y, 'r', label=f't pdf, df = {dof}')\n",
        "plt.vlines(x=[stats.t.ppf(alpha / 2, dof), -stats.t.ppf(alpha / 2, dof)], ymin=.01, ymax=.4, label=f'critical value for alpha = {alpha}', color='g')\n",
        "plt.vlines(x=[-t_statistic, t_statistic], ymin=.01, ymax=.4, label='t-statistic', color='b')\n",
        "plt.legend()"
      ]
    },
    {
      "cell_type": "code",
      "execution_count": 27,
      "metadata": {
        "colab": {
          "base_uri": "https://localhost:8080/"
        },
        "id": "T8vDZ8iH8FVf",
        "outputId": "57334da5-4c83-4a13-d2bf-a7a2f9d78fb1"
      },
      "outputs": [
        {
          "name": "stdout",
          "output_type": "stream",
          "text": [
            "Fail to reject H0\n"
          ]
        }
      ],
      "source": [
        "print('Fail to reject H0' if p_value > alpha else 'Reject H0')"
      ]
    },
    {
      "cell_type": "markdown",
      "metadata": {
        "id": "B2QoXCiv911I"
      },
      "source": [
        "Giả thuyết 2: Điểm trung bình môn toán và đọc giống nhau.\n",
        "\n",
        "- $H_0$: Điểm trung bình môn toán và đọc giống nhau.\n",
        "- $H_a$: Điểm trung bình môn toán và đọc khác nhau.\n",
        "- Mức độ quan trọng $\\alpha$ = 0.05 hoặc 5%.\n",
        "- Lựa chọn kiểm chứng t-test."
      ]
    },
    {
      "cell_type": "code",
      "execution_count": 28,
      "metadata": {
        "colab": {
          "base_uri": "https://localhost:8080/"
        },
        "id": "_2C1vupB9dLT",
        "outputId": "06261640-5a60-4af8-d5f8-294e2bd5e357"
      },
      "outputs": [
        {
          "data": {
            "text/plain": [
              "(-4.627084038100885, 3.9467939905587526e-06, 1995.1476206033021)"
            ]
          },
          "execution_count": 28,
          "metadata": {},
          "output_type": "execute_result"
        }
      ],
      "source": [
        "weightstats.ttest_ind(df['math score'], df['reading score'], usevar='unequal')"
      ]
    },
    {
      "cell_type": "code",
      "execution_count": 29,
      "metadata": {
        "colab": {
          "base_uri": "https://localhost:8080/"
        },
        "id": "GLu5zwm_9vyC",
        "outputId": "575d9a6a-4da4-4c12-ab54-801838496b09"
      },
      "outputs": [
        {
          "data": {
            "text/plain": [
              "(-4.627084038100885, 3.708500620331301e-06)"
            ]
          },
          "execution_count": 29,
          "metadata": {},
          "output_type": "execute_result"
        }
      ],
      "source": [
        "weightstats.ztest(df['math score'], df['reading score'])"
      ]
    },
    {
      "cell_type": "code",
      "execution_count": 30,
      "metadata": {
        "colab": {
          "base_uri": "https://localhost:8080/"
        },
        "id": "vrTSWdlD9tCs",
        "outputId": "4aa869c8-2cbe-4a23-d08d-a5c195f63cc0"
      },
      "outputs": [
        {
          "data": {
            "text/plain": [
              "TtestResult(statistic=-4.627084038100885, pvalue=3.9467939905587526e-06, df=1995.1476206033021)"
            ]
          },
          "execution_count": 30,
          "metadata": {},
          "output_type": "execute_result"
        }
      ],
      "source": [
        "stats.ttest_ind(df['math score'], df['reading score'], equal_var=False)"
      ]
    },
    {
      "cell_type": "markdown",
      "metadata": {
        "id": "0UPx1S0H0zJ0"
      },
      "source": [
        "### Các loại kiểm định giả thuyết"
      ]
    },
    {
      "cell_type": "markdown",
      "metadata": {
        "id": "hbCzCVoz-v7p"
      },
      "source": [
        "#### Z-test/T-test"
      ]
    },
    {
      "cell_type": "markdown",
      "metadata": {},
      "source": [
        "![](1.jpg)"
      ]
    },
    {
      "cell_type": "code",
      "execution_count": 31,
      "metadata": {
        "id": "-t8vkste0HJ8"
      },
      "outputs": [
        {
          "data": {
            "text/plain": [
              "(-4.627084038100885, 3.9467939905587526e-06)"
            ]
          },
          "execution_count": 31,
          "metadata": {},
          "output_type": "execute_result"
        }
      ],
      "source": [
        "math_mean = df['math score'].mean()\n",
        "reading_mean = df['reading score'].mean()\n",
        "\n",
        "math_std = df['math score'].std()\n",
        "reading_std = df['reading score'].std()\n",
        "\n",
        "n_math = df['math score'].count()\n",
        "n_reading = df['reading score'].count()\n",
        "\n",
        "t_stat, p_val = stats.ttest_ind(df['math score'], df['reading score'], equal_var=False)\n",
        "t_stat, p_val"
      ]
    },
    {
      "cell_type": "markdown",
      "metadata": {
        "id": "Z4rtUdJ61BMJ"
      },
      "source": [
        "#### ANOVA (F-test)"
      ]
    },
    {
      "cell_type": "markdown",
      "metadata": {},
      "source": [
        "ANOVA (F-test) cho chúng ta biết 2 hoặc nhiều nhóm có tương đồng hay không dựa trên trung bình của chúng và F-score.\n",
        "\n",
        "Giả thuyết 1: Không có sự khác biệt trong trung bình cộng điểm số từng môn của học sinh.\n",
        "\n",
        "Tổng bình phương:\n",
        "\n",
        "$\\sum_{i=1}^{a}\\sum_{j=1}^{n_i}(Y_{ij}-\\overline{\\overline{Y}})^2\\;=\\;\\sum_{i=1}^{a}n_i(\\overline{Y}_i-\\overline{\\overline{Y}})^2+\\sum_{i=1}^{a}\\sum_{j=1}^{n_i}(Y_{ij}-\\overline{Y}_i)^2$\n",
        "\n",
        "$SS(Total)\\;     =     \\;SS(between)\\;     +     \\;SS(within)$\n",
        "\n",
        "Công thức tính tổng bình phương về cơ bản là tính toán tổng của sự thay đổi do sự khác biệt giữa các nhóm và sự thay đổi do sự khác biệt trong mỗi nhóm (sự khác biệt không giải thích được do ngẫu nhiên).\n",
        "\n",
        "Liên kết với mỗi tổng bình phương là một đại lượng gọi là bậc tự do (DF). Bậc tự do cho biết số lượng phần thông tin độc lập được sử dụng để tính tổng mỗi bình phương. Chúng\n",
        "ta chia mỗi tổng bình phương cho các bậc tự do tương ứng để thu được bình phương trung bình.\n",
        "\n",
        "$MS(between) = \\frac{SS(between)}{DF\\_between}$\n",
        "\n",
        "$MS(within) = \\frac{SS(within)}{DF\\_within}$\n",
        "\n",
        "F-score được tính như sau:\n",
        "\n",
        "$F = \\frac{MS(between)}{MS(within)}$"
      ]
    },
    {
      "cell_type": "code",
      "execution_count": 32,
      "metadata": {
        "colab": {
          "base_uri": "https://localhost:8080/"
        },
        "id": "CRcXUj1d10vL",
        "outputId": "ee50189e-8977-4c93-a026-0355494d101d"
      },
      "outputs": [
        {
          "data": {
            "text/plain": [
              "(66.089, 69.169, 68.054)"
            ]
          },
          "execution_count": 32,
          "metadata": {},
          "output_type": "execute_result"
        }
      ],
      "source": [
        "m_math, m_reading, m_writing = df.select_dtypes(include=[np.number]).mean()\n",
        "m_total = df.select_dtypes(include=[np.number]).mean().mean()\n",
        "m_math, m_reading, m_writing"
      ]
    },
    {
      "cell_type": "code",
      "execution_count": 33,
      "metadata": {
        "id": "Bl8urAaI18wD"
      },
      "outputs": [],
      "source": [
        "n_samples = 1000\n",
        "n_cols = 3"
      ]
    },
    {
      "cell_type": "code",
      "execution_count": 34,
      "metadata": {
        "colab": {
          "base_uri": "https://localhost:8080/"
        },
        "id": "OtCD-wfy1-rw",
        "outputId": "897b526a-1b8f-46d5-b2be-08e64f680f57"
      },
      "outputs": [
        {
          "data": {
            "text/plain": [
              "4863.616666666663"
            ]
          },
          "execution_count": 34,
          "metadata": {},
          "output_type": "execute_result"
        }
      ],
      "source": [
        "ss_between = n_samples * ((m_math - m_total) ** 2 + (m_reading - m_total) ** 2 + (m_writing - m_total) ** 2)\n",
        "ss_between"
      ]
    },
    {
      "cell_type": "code",
      "execution_count": 35,
      "metadata": {
        "id": "6KWEb-eF2AKB"
      },
      "outputs": [],
      "source": [
        "# Test\n",
        "test_near(4863.616666666663, ss_between)"
      ]
    },
    {
      "cell_type": "code",
      "execution_count": 36,
      "metadata": {
        "colab": {
          "base_uri": "https://localhost:8080/"
        },
        "id": "K2YtWJIk2Bfj",
        "outputId": "88116fab-fb0d-430b-fa87-9a13ec4ad1e3"
      },
      "outputs": [
        {
          "data": {
            "text/plain": [
              "math score       229.918998\n",
              "reading score    213.165605\n",
              "writing score    230.907992\n",
              "dtype: float64"
            ]
          },
          "execution_count": 36,
          "metadata": {},
          "output_type": "execute_result"
        }
      ],
      "source": [
        "var_values = df.select_dtypes(include=[np.number]).var()\n",
        "var_values"
      ]
    },
    {
      "cell_type": "code",
      "execution_count": 37,
      "metadata": {
        "colab": {
          "base_uri": "https://localhost:8080/"
        },
        "id": "2y2tVTSK2C8N",
        "outputId": "7806bc63-4b7c-4af8-c9e3-844fde092a2a"
      },
      "outputs": [],
      "source": [
        "ss_math, ss_reading, ss_writing = df.select_dtypes(include=[np.number]).var(ddof=0) * n_samples"
      ]
    },
    {
      "cell_type": "code",
      "execution_count": 38,
      "metadata": {
        "colab": {
          "base_uri": "https://localhost:8080/"
        },
        "id": "2vAEx6Hr2Ebt",
        "outputId": "94fe89b2-73a6-448d-aab4-2f158ed034c6"
      },
      "outputs": [
        {
          "data": {
            "text/plain": [
              "673318.602"
            ]
          },
          "execution_count": 38,
          "metadata": {},
          "output_type": "execute_result"
        }
      ],
      "source": [
        "ss_within = ss_math + ss_reading + ss_writing\n",
        "ss_within"
      ]
    },
    {
      "cell_type": "code",
      "execution_count": 39,
      "metadata": {
        "id": "2bcUpEsh2GDL"
      },
      "outputs": [],
      "source": [
        "# Test\n",
        "test_near(673318.6020000002, ss_within)"
      ]
    },
    {
      "cell_type": "code",
      "execution_count": 40,
      "metadata": {
        "colab": {
          "base_uri": "https://localhost:8080/"
        },
        "id": "1h6dlBN12Hex",
        "outputId": "b4972260-b389-4f6b-aa33-d84379d52aae"
      },
      "outputs": [
        {
          "data": {
            "text/plain": [
              "2431.8083333333316"
            ]
          },
          "execution_count": 40,
          "metadata": {},
          "output_type": "execute_result"
        }
      ],
      "source": [
        "df_between = n_cols - 1\n",
        "ms_between = ss_between / df_between\n",
        "ms_between"
      ]
    },
    {
      "cell_type": "code",
      "execution_count": 41,
      "metadata": {
        "colab": {
          "base_uri": "https://localhost:8080/"
        },
        "id": "m9qV_s2X2I8V",
        "outputId": "c311d0c6-cce1-41e2-e01a-dba0e9c60936"
      },
      "outputs": [
        {
          "data": {
            "text/plain": [
              "224.6641981981982"
            ]
          },
          "execution_count": 41,
          "metadata": {},
          "output_type": "execute_result"
        }
      ],
      "source": [
        "df_within = n_samples * n_cols - n_cols\n",
        "ms_within = ss_within / df_within\n",
        "ms_within"
      ]
    },
    {
      "cell_type": "code",
      "execution_count": 42,
      "metadata": {
        "colab": {
          "base_uri": "https://localhost:8080/"
        },
        "id": "TXJATC432KXi",
        "outputId": "0d38fa3b-07c1-4459-caeb-f00973b08c67"
      },
      "outputs": [
        {
          "name": "stdout",
          "output_type": "stream",
          "text": [
            "Calculated F-score is: 10.82419162837862\n"
          ]
        }
      ],
      "source": [
        "f_score = ms_between / ms_within\n",
        "print(f'Calculated F-score is: {f_score}')"
      ]
    },
    {
      "cell_type": "code",
      "execution_count": 43,
      "metadata": {
        "colab": {
          "base_uri": "https://localhost:8080/"
        },
        "id": "y7f1kA4cA1vZ",
        "outputId": "af2d70b6-65a2-4a3e-c841-eb6e578f115d"
      },
      "outputs": [
        {
          "data": {
            "text/plain": [
              "(2, 2997)"
            ]
          },
          "execution_count": 43,
          "metadata": {},
          "output_type": "execute_result"
        }
      ],
      "source": [
        "df_between, df_within"
      ]
    },
    {
      "cell_type": "code",
      "execution_count": 44,
      "metadata": {
        "colab": {
          "base_uri": "https://localhost:8080/"
        },
        "id": "oS_PNj_lM6_a",
        "outputId": "f9cd0c8b-1d74-482e-e324-1b9e4ff86f35"
      },
      "outputs": [
        {
          "data": {
            "text/plain": [
              "2.0701893192229333e-05"
            ]
          },
          "execution_count": 44,
          "metadata": {},
          "output_type": "execute_result"
        }
      ],
      "source": [
        "# Quiz: Tìm p-value tương ứng với f_score\n",
        "p_value = stats.f.sf(f_score, df_between, df_within)\n",
        "p_value"
      ]
    },
    {
      "cell_type": "code",
      "execution_count": 45,
      "metadata": {
        "id": "EdW2AVhfNxWV"
      },
      "outputs": [],
      "source": [
        "# Test\n",
        "test_near(p_value, 2.0701893192229333e-05)"
      ]
    },
    {
      "cell_type": "code",
      "execution_count": 46,
      "metadata": {
        "colab": {
          "base_uri": "https://localhost:8080/"
        },
        "id": "-qZwAYrf2Qu9",
        "outputId": "ff1185e9-373a-41dc-d5e6-232884dc952f"
      },
      "outputs": [
        {
          "data": {
            "text/plain": [
              "(10.824191628378626, 2.0701893192229333e-05)"
            ]
          },
          "execution_count": 46,
          "metadata": {},
          "output_type": "execute_result"
        }
      ],
      "source": [
        "# Quiz: Kiểm tra F-test bằng module scipy.stats.f_oneway\n",
        "f_statistic, p_value = stats.f_oneway(df['math score'], df['reading score'], df['writing score'])\n",
        "f_statistic, p_value"
      ]
    },
    {
      "cell_type": "code",
      "execution_count": 47,
      "metadata": {
        "id": "e6v0smQ4wGdo"
      },
      "outputs": [],
      "source": [
        "# Test\n",
        "test_near(10.824191628378626, f_statistic)\n",
        "test_near(2.0701893192229333e-05, p_value)"
      ]
    },
    {
      "cell_type": "code",
      "execution_count": 48,
      "metadata": {
        "colab": {
          "base_uri": "https://localhost:8080/"
        },
        "id": "yNjjLiuo2R7-",
        "outputId": "6b585187-d83c-4121-e16d-8dc5476edda0"
      },
      "outputs": [
        {
          "data": {
            "text/plain": [
              "2.304355067891861"
            ]
          },
          "execution_count": 48,
          "metadata": {},
          "output_type": "execute_result"
        }
      ],
      "source": [
        "# Quiz: Tìm giá trị quan trọng (F-critical)\n",
        "alpha = .1\n",
        "df_between = n_cols - 1\n",
        "df_within = n_samples * n_cols - n_cols\n",
        "f_critical = stats.f.ppf(1 - alpha, df_between, df_within)\n",
        "f_critical"
      ]
    },
    {
      "cell_type": "code",
      "execution_count": 49,
      "metadata": {
        "id": "b7hT77YDw1Z5"
      },
      "outputs": [],
      "source": [
        "# Test\n",
        "test_near(2.304355067891861, f_critical)"
      ]
    },
    {
      "cell_type": "code",
      "execution_count": 50,
      "metadata": {
        "colab": {
          "base_uri": "https://localhost:8080/",
          "height": 373
        },
        "id": "icsyUwtv2Tip",
        "outputId": "5b948a6a-944d-4feb-d6f7-144b5216656b"
      },
      "outputs": [
        {
          "data": {
            "text/plain": [
              "<matplotlib.legend.Legend at 0x24d56a24d10>"
            ]
          },
          "execution_count": 50,
          "metadata": {},
          "output_type": "execute_result"
        },
        {
          "data": {
            "image/png": "[encoded data removed]",
            "text/plain": [
              "<Figure size 800x600 with 1 Axes>"
            ]
          },
          "metadata": {},
          "output_type": "display_data"
        }
      ],
      "source": [
        "dfn, dfd = df_between, df_within\n",
        "x = np.linspace(stats.f.ppf(.01, dfn, dfd), stats.f.ppf(.99, dfn, dfd), 100)\n",
        "\n",
        "plt.figure(figsize=(8, 6), dpi=100)\n",
        "plt.plot(x, stats.f.pdf(x, dfn, dfd), 'r', label='f pdf')\n",
        "plt.axvline(x=stats.f.ppf(1 - alpha, dfn, dfd), label=f'critical value for alpha = {alpha}', color='g')\n",
        "plt.axvline(x=f_score, label='F-score')\n",
        "plt.legend()"
      ]
    },
    {
      "cell_type": "markdown",
      "metadata": {},
      "source": [
        "Bởi vì giá trị F-score chúng ta tìm được rơi ngoài khoảng chấp nhận và p-value cũng rất nhỏ, chúng ta có đủ bằng chứng để loại giả thuyết không.\n",
        "\n",
        "Nếu $H_0$ bị loại bỏ, chúng ta có thể kết luận rằng ít nhất trung bình của một nhóm là khác biệt. Tuy nhiên chúng ta không biết đó là nhóm nào và cần thực hiện T-test cho từng cặp để tìm ra."
      ]
    },
    {
      "cell_type": "markdown",
      "metadata": {
        "id": "gFq2M4m42loi"
      },
      "source": [
        "#### Chi-Square Test"
      ]
    },
    {
      "cell_type": "markdown",
      "metadata": {
        "id": "ZFm7O5QS2n9Q"
      },
      "source": [
        "Thử nghiệm được áp dụng khi bạn có hai biến phân loại (categorial variables) từ một tập quần thể duy nhất. Nó được sử dụng để xác định liệu có mối liên hệ đáng kể giữa hai biến hay không.\n",
        "\n",
        "Giả thuyết 2: Không có mối quan hệ giữa giới tính và học lực.\n",
        "\n",
        "$X^2 = \\frac{(Observed - Expected)^2}{Expected}$"
      ]
    },
    {
      "cell_type": "code",
      "execution_count": 51,
      "metadata": {
        "id": "5j5dlTWW2VTp"
      },
      "outputs": [],
      "source": [
        "df['overall_performance'] = df.iloc[:, 5:].mean(axis=1)"
      ]
    },
    {
      "cell_type": "code",
      "execution_count": 52,
      "metadata": {
        "id": "gGqPwy2N2sdB"
      },
      "outputs": [],
      "source": [
        "df['verdict'] = df['overall_performance'] >= 40"
      ]
    },
    {
      "cell_type": "code",
      "execution_count": 53,
      "metadata": {
        "colab": {
          "base_uri": "https://localhost:8080/",
          "height": 348
        },
        "id": "1OqZbAzQ2uSC",
        "outputId": "5e96efca-c170-43f9-8f81-9ff02246c926"
      },
      "outputs": [
        {
          "data": {
            "text/html": [
              "<div>\n",
              "<style scoped>\n",
              "    .dataframe tbody tr th:only-of-type {\n",
              "        vertical-align: middle;\n",
              "    }\n",
              "\n",
              "    .dataframe tbody tr th {\n",
              "        vertical-align: top;\n",
              "    }\n",
              "\n",
              "    .dataframe thead th {\n",
              "        text-align: right;\n",
              "    }\n",
              "</style>\n",
              "<table border=\"1\" class=\"dataframe\">\n",
              "  <thead>\n",
              "    <tr style=\"text-align: right;\">\n",
              "      <th></th>\n",
              "      <th>gender</th>\n",
              "      <th>race/ethnicity</th>\n",
              "      <th>parental level of education</th>\n",
              "      <th>lunch</th>\n",
              "      <th>test preparation course</th>\n",
              "      <th>math score</th>\n",
              "      <th>reading score</th>\n",
              "      <th>writing score</th>\n",
              "      <th>overall_performance</th>\n",
              "      <th>verdict</th>\n",
              "    </tr>\n",
              "  </thead>\n",
              "  <tbody>\n",
              "    <tr>\n",
              "      <th>0</th>\n",
              "      <td>female</td>\n",
              "      <td>group B</td>\n",
              "      <td>bachelor's degree</td>\n",
              "      <td>standard</td>\n",
              "      <td>none</td>\n",
              "      <td>72</td>\n",
              "      <td>72</td>\n",
              "      <td>74</td>\n",
              "      <td>72.666667</td>\n",
              "      <td>True</td>\n",
              "    </tr>\n",
              "    <tr>\n",
              "      <th>1</th>\n",
              "      <td>female</td>\n",
              "      <td>group C</td>\n",
              "      <td>some college</td>\n",
              "      <td>standard</td>\n",
              "      <td>completed</td>\n",
              "      <td>69</td>\n",
              "      <td>90</td>\n",
              "      <td>88</td>\n",
              "      <td>82.333333</td>\n",
              "      <td>True</td>\n",
              "    </tr>\n",
              "    <tr>\n",
              "      <th>2</th>\n",
              "      <td>female</td>\n",
              "      <td>group B</td>\n",
              "      <td>master's degree</td>\n",
              "      <td>standard</td>\n",
              "      <td>none</td>\n",
              "      <td>90</td>\n",
              "      <td>95</td>\n",
              "      <td>93</td>\n",
              "      <td>92.666667</td>\n",
              "      <td>True</td>\n",
              "    </tr>\n",
              "    <tr>\n",
              "      <th>3</th>\n",
              "      <td>male</td>\n",
              "      <td>group A</td>\n",
              "      <td>associate's degree</td>\n",
              "      <td>free/reduced</td>\n",
              "      <td>none</td>\n",
              "      <td>47</td>\n",
              "      <td>57</td>\n",
              "      <td>44</td>\n",
              "      <td>49.333333</td>\n",
              "      <td>True</td>\n",
              "    </tr>\n",
              "    <tr>\n",
              "      <th>4</th>\n",
              "      <td>male</td>\n",
              "      <td>group C</td>\n",
              "      <td>some college</td>\n",
              "      <td>standard</td>\n",
              "      <td>none</td>\n",
              "      <td>76</td>\n",
              "      <td>78</td>\n",
              "      <td>75</td>\n",
              "      <td>76.333333</td>\n",
              "      <td>True</td>\n",
              "    </tr>\n",
              "  </tbody>\n",
              "</table>\n",
              "</div>"
            ],
            "text/plain": [
              "   gender race/ethnicity parental level of education         lunch  \\\n",
              "0  female        group B           bachelor's degree      standard   \n",
              "1  female        group C                some college      standard   \n",
              "2  female        group B             master's degree      standard   \n",
              "3    male        group A          associate's degree  free/reduced   \n",
              "4    male        group C                some college      standard   \n",
              "\n",
              "  test preparation course  math score  reading score  writing score  \\\n",
              "0                    none          72             72             74   \n",
              "1               completed          69             90             88   \n",
              "2                    none          90             95             93   \n",
              "3                    none          47             57             44   \n",
              "4                    none          76             78             75   \n",
              "\n",
              "   overall_performance  verdict  \n",
              "0            72.666667     True  \n",
              "1            82.333333     True  \n",
              "2            92.666667     True  \n",
              "3            49.333333     True  \n",
              "4            76.333333     True  "
            ]
          },
          "execution_count": 53,
          "metadata": {},
          "output_type": "execute_result"
        }
      ],
      "source": [
        "df.head()"
      ]
    },
    {
      "cell_type": "code",
      "execution_count": 54,
      "metadata": {
        "colab": {
          "base_uri": "https://localhost:8080/",
          "height": 175
        },
        "id": "EqrwX-6v2xRT",
        "outputId": "62ec6b78-f11c-474f-8223-1f1749cce6eb"
      },
      "outputs": [
        {
          "data": {
            "text/html": [
              "<div>\n",
              "<style scoped>\n",
              "    .dataframe tbody tr th:only-of-type {\n",
              "        vertical-align: middle;\n",
              "    }\n",
              "\n",
              "    .dataframe tbody tr th {\n",
              "        vertical-align: top;\n",
              "    }\n",
              "\n",
              "    .dataframe thead th {\n",
              "        text-align: right;\n",
              "    }\n",
              "</style>\n",
              "<table border=\"1\" class=\"dataframe\">\n",
              "  <thead>\n",
              "    <tr style=\"text-align: right;\">\n",
              "      <th>verdict</th>\n",
              "      <th>False</th>\n",
              "      <th>True</th>\n",
              "      <th>All</th>\n",
              "    </tr>\n",
              "    <tr>\n",
              "      <th>gender</th>\n",
              "      <th></th>\n",
              "      <th></th>\n",
              "      <th></th>\n",
              "    </tr>\n",
              "  </thead>\n",
              "  <tbody>\n",
              "    <tr>\n",
              "      <th>female</th>\n",
              "      <td>16</td>\n",
              "      <td>502</td>\n",
              "      <td>518</td>\n",
              "    </tr>\n",
              "    <tr>\n",
              "      <th>male</th>\n",
              "      <td>14</td>\n",
              "      <td>468</td>\n",
              "      <td>482</td>\n",
              "    </tr>\n",
              "    <tr>\n",
              "      <th>All</th>\n",
              "      <td>30</td>\n",
              "      <td>970</td>\n",
              "      <td>1000</td>\n",
              "    </tr>\n",
              "  </tbody>\n",
              "</table>\n",
              "</div>"
            ],
            "text/plain": [
              "verdict  False  True   All\n",
              "gender                    \n",
              "female      16   502   518\n",
              "male        14   468   482\n",
              "All         30   970  1000"
            ]
          },
          "execution_count": 54,
          "metadata": {},
          "output_type": "execute_result"
        }
      ],
      "source": [
        "contingency_table = pd.crosstab(df['gender'], df['verdict'], margins=True)\n",
        "contingency_table"
      ]
    },
    {
      "cell_type": "markdown",
      "metadata": {
        "id": "HOcrIMdQEdbs"
      },
      "source": [
        "P(gender = female & verdict = False) = P(gender = female) * P(verdict = False) = 518 / 1000 * 30 / 1000\n",
        "\n",
        "expected_value = 518 / 1000 * 30"
      ]
    },
    {
      "cell_type": "code",
      "execution_count": 55,
      "metadata": {
        "colab": {
          "base_uri": "https://localhost:8080/"
        },
        "id": "9EgK60l8200Z",
        "outputId": "857febb4-576c-4e66-f5a8-7c2d965ef6c0"
      },
      "outputs": [
        {
          "data": {
            "text/plain": [
              "array([ 16, 502,  14, 468], dtype=int64)"
            ]
          },
          "execution_count": 55,
          "metadata": {},
          "output_type": "execute_result"
        }
      ],
      "source": [
        "observed_values = np.append(contingency_table.iloc[0, :2].values, contingency_table.iloc[1, :2].values)\n",
        "observed_values"
      ]
    },
    {
      "cell_type": "code",
      "execution_count": 56,
      "metadata": {
        "colab": {
          "base_uri": "https://localhost:8080/"
        },
        "id": "R_z5T1nK20wK",
        "outputId": "0113cd83-ccbd-471d-d726-c7d8bfcfdb97"
      },
      "outputs": [
        {
          "data": {
            "text/plain": [
              "1000"
            ]
          },
          "execution_count": 56,
          "metadata": {},
          "output_type": "execute_result"
        }
      ],
      "source": [
        "overall_total = df.shape[0]\n",
        "overall_total"
      ]
    },
    {
      "cell_type": "code",
      "execution_count": 57,
      "metadata": {
        "colab": {
          "base_uri": "https://localhost:8080/"
        },
        "id": "9Ib8eQr02xK9",
        "outputId": "4434c50d-4001-44f2-8294-af1f0099d4c0"
      },
      "outputs": [
        {
          "data": {
            "text/plain": [
              "(array([518, 482], dtype=int64), array([ 30, 970], dtype=int64))"
            ]
          },
          "execution_count": 57,
          "metadata": {},
          "output_type": "execute_result"
        }
      ],
      "source": [
        "gender_total = contingency_table.iloc[0: 2, 2].values\n",
        "verdict_total = contingency_table.iloc[2, 0: 2].values\n",
        "gender_total, verdict_total"
      ]
    },
    {
      "cell_type": "code",
      "execution_count": 58,
      "metadata": {},
      "outputs": [
        {
          "data": {
            "text/plain": [
              "[15.54, 502.46, 14.46, 467.54]"
            ]
          },
          "execution_count": 58,
          "metadata": {},
          "output_type": "execute_result"
        }
      ],
      "source": [
        "expected_values = [gender_total[i] * verdict_total[j] / overall_total for i in range(2) for j in range(2)]\n",
        "expected_values"
      ]
    },
    {
      "cell_type": "code",
      "execution_count": 59,
      "metadata": {
        "colab": {
          "base_uri": "https://localhost:8080/"
        },
        "id": "5naMXgya24Nc",
        "outputId": "1e150ce0-2d1c-4c3b-fe50-fa267dbe5467"
      },
      "outputs": [
        {
          "name": "stdout",
          "output_type": "stream",
          "text": [
            "Chi square value: 0.029123654909683938\n",
            "Chi square critical: 2.705543454095404\n"
          ]
        }
      ],
      "source": [
        "dof = (2 - 1) * (2 - 1)\n",
        "chi_square_value = np.sum((observed_values - expected_values) ** 2 / expected_values)\n",
        "print(f'Chi square value: {chi_square_value}')\n",
        "print('Chi square critical:', stats.chi2.ppf(1 - alpha, dof))"
      ]
    },
    {
      "cell_type": "code",
      "execution_count": 60,
      "metadata": {
        "colab": {
          "base_uri": "https://localhost:8080/"
        },
        "id": "kpJUmUfJ8YSB",
        "outputId": "5f572b40-9752-48f7-e1fd-52b4fbf423cb"
      },
      "outputs": [
        {
          "data": {
            "text/plain": [
              "0.8644938368660299"
            ]
          },
          "execution_count": 60,
          "metadata": {},
          "output_type": "execute_result"
        }
      ],
      "source": [
        "# Quiz: Tìm p_value tương ứng\n",
        "p_value = stats.chi2.sf(chi_square_value, dof)\n",
        "p_value"
      ]
    },
    {
      "cell_type": "code",
      "execution_count": 61,
      "metadata": {
        "id": "9l3d_PqXODa9"
      },
      "outputs": [],
      "source": [
        "# Test\n",
        "test_near(p_value, .8644938368660299)"
      ]
    },
    {
      "cell_type": "code",
      "execution_count": 62,
      "metadata": {
        "colab": {
          "base_uri": "https://localhost:8080/"
        },
        "id": "ervVLm6O4Arp",
        "outputId": "a71ea21a-2126-444a-eee7-21a1ff8c2c66"
      },
      "outputs": [
        {
          "data": {
            "text/plain": [
              "(0.029123654909683938,\n",
              " 0.8644938368660299,\n",
              " 1,\n",
              " array([[ 15.54, 502.46],\n",
              "        [ 14.46, 467.54]]))"
            ]
          },
          "execution_count": 62,
          "metadata": {},
          "output_type": "execute_result"
        }
      ],
      "source": [
        "stat, p, dof, expected = stats.chi2_contingency(contingency_table.iloc[:2, :2].values, correction=False, lambda_='pearson')\n",
        "stat, p, dof, expected"
      ]
    },
    {
      "cell_type": "code",
      "execution_count": 63,
      "metadata": {
        "colab": {
          "base_uri": "https://localhost:8080/"
        },
        "id": "-Qbao9bfy9a2",
        "outputId": "2cf0f786-29c3-4371-d6a5-c60a9117c680"
      },
      "outputs": [
        {
          "data": {
            "text/plain": [
              "(0.029123654909683938, 0.8644938368660299)"
            ]
          },
          "execution_count": 63,
          "metadata": {},
          "output_type": "execute_result"
        }
      ],
      "source": [
        "# Quiz: sử dụng module scipy.stats.chisquare cho chi square test.\n",
        "chi_statistic, p_value = stats.chisquare(observed_values, expected_values, ddof=2)\n",
        "chi_statistic, p_value"
      ]
    },
    {
      "cell_type": "code",
      "execution_count": 64,
      "metadata": {
        "colab": {
          "base_uri": "https://localhost:8080/",
          "height": 302
        },
        "id": "d-ot2JB327WD",
        "outputId": "d115f019-647c-4a3c-cb2b-9c7565b3509b"
      },
      "outputs": [
        {
          "data": {
            "text/plain": [
              "<matplotlib.legend.Legend at 0x24d54944b60>"
            ]
          },
          "execution_count": 64,
          "metadata": {},
          "output_type": "execute_result"
        },
        {
          "data": {
            "image/png": "[encoded data removed]",
            "text/plain": [
              "<Figure size 800x600 with 1 Axes>"
            ]
          },
          "metadata": {},
          "output_type": "display_data"
        }
      ],
      "source": [
        "x = np.linspace(stats.chi2.ppf(.01, dof), stats.chi2.ppf(.99, dof), 1000)\n",
        "\n",
        "plt.figure(figsize=(8, 6), dpi=100)\n",
        "plt.plot(x, stats.chi2.pdf(x, dof), 'r', label='Chi2 pdf')\n",
        "plt.axvline(x=stats.chi2.ppf(1 - alpha, dof), label=f'critical value for alpha = {alpha}', color='g')\n",
        "plt.axvline(x=chi_square_value, label='Chi square score')\n",
        "plt.ylim(0, .5)\n",
        "plt.legend()"
      ]
    },
    {
      "cell_type": "markdown",
      "metadata": {
        "id": "pTiD4p3n3AAJ"
      },
      "source": [
        "Vì giá trị Chi-square được tính toán nhỏ hơn giá trị tới hạn, chúng ta không thể bác bỏ giả thuyết không rằng không có mối quan hệ giữa giới tính và thành tích tổng thể của học sinh."
      ]
    },
    {
      "cell_type": "markdown",
      "metadata": {
        "id": "SB3JZZVmEU5S"
      },
      "source": [
        "#### A/B Testing\n"
      ]
    },
    {
      "cell_type": "markdown",
      "metadata": {
        "id": "kK8nasoPEXIE"
      },
      "source": [
        "Dữ liệu về tỷ lệ chuyển đổi của 2 phiên bản website.\n",
        "\n",
        "Kiểm tra giả thuyết tỷ lệ chuyển đổi của phiên bản website B cao hơn tỷ lệ chuyển đổi của phiên bản website A.\n",
        "\n",
        "Lựa chọn $\\alpha$ = 0.05 và kiểm định t-test vì kiểm định này phổ biến trong A/B Testing."
      ]
    },
    {
      "cell_type": "code",
      "execution_count": 65,
      "metadata": {
        "colab": {
          "base_uri": "https://localhost:8080/",
          "height": 363
        },
        "id": "oYIp2zZIEYWA",
        "outputId": "ee608f56-eeff-4e06-d083-be47f26bf1bb"
      },
      "outputs": [
        {
          "data": {
            "text/html": [
              "<div>\n",
              "<style scoped>\n",
              "    .dataframe tbody tr th:only-of-type {\n",
              "        vertical-align: middle;\n",
              "    }\n",
              "\n",
              "    .dataframe tbody tr th {\n",
              "        vertical-align: top;\n",
              "    }\n",
              "\n",
              "    .dataframe thead th {\n",
              "        text-align: right;\n",
              "    }\n",
              "</style>\n",
              "<table border=\"1\" class=\"dataframe\">\n",
              "  <thead>\n",
              "    <tr style=\"text-align: right;\">\n",
              "      <th></th>\n",
              "      <th>Day</th>\n",
              "      <th>Conversion_A</th>\n",
              "      <th>Conversion_B</th>\n",
              "    </tr>\n",
              "  </thead>\n",
              "  <tbody>\n",
              "    <tr>\n",
              "      <th>0</th>\n",
              "      <td>1</td>\n",
              "      <td>0.15</td>\n",
              "      <td>0.19</td>\n",
              "    </tr>\n",
              "    <tr>\n",
              "      <th>1</th>\n",
              "      <td>2</td>\n",
              "      <td>0.12</td>\n",
              "      <td>0.20</td>\n",
              "    </tr>\n",
              "    <tr>\n",
              "      <th>2</th>\n",
              "      <td>3</td>\n",
              "      <td>0.18</td>\n",
              "      <td>0.18</td>\n",
              "    </tr>\n",
              "    <tr>\n",
              "      <th>3</th>\n",
              "      <td>4</td>\n",
              "      <td>0.19</td>\n",
              "      <td>0.22</td>\n",
              "    </tr>\n",
              "    <tr>\n",
              "      <th>4</th>\n",
              "      <td>5</td>\n",
              "      <td>0.17</td>\n",
              "      <td>0.19</td>\n",
              "    </tr>\n",
              "    <tr>\n",
              "      <th>5</th>\n",
              "      <td>6</td>\n",
              "      <td>0.13</td>\n",
              "      <td>0.17</td>\n",
              "    </tr>\n",
              "    <tr>\n",
              "      <th>6</th>\n",
              "      <td>7</td>\n",
              "      <td>0.14</td>\n",
              "      <td>0.18</td>\n",
              "    </tr>\n",
              "    <tr>\n",
              "      <th>7</th>\n",
              "      <td>8</td>\n",
              "      <td>0.23</td>\n",
              "      <td>0.20</td>\n",
              "    </tr>\n",
              "    <tr>\n",
              "      <th>8</th>\n",
              "      <td>9</td>\n",
              "      <td>0.11</td>\n",
              "      <td>0.17</td>\n",
              "    </tr>\n",
              "    <tr>\n",
              "      <th>9</th>\n",
              "      <td>10</td>\n",
              "      <td>0.15</td>\n",
              "      <td>0.22</td>\n",
              "    </tr>\n",
              "  </tbody>\n",
              "</table>\n",
              "</div>"
            ],
            "text/plain": [
              "   Day   Conversion_A  Conversion_B\n",
              "0     1          0.15          0.19\n",
              "1     2          0.12          0.20\n",
              "2     3          0.18          0.18\n",
              "3     4          0.19          0.22\n",
              "4     5          0.17          0.19\n",
              "5     6          0.13          0.17\n",
              "6     7          0.14          0.18\n",
              "7     8          0.23          0.20\n",
              "8     9          0.11          0.17\n",
              "9    10          0.15          0.22"
            ]
          },
          "execution_count": 65,
          "metadata": {},
          "output_type": "execute_result"
        }
      ],
      "source": [
        "data = pd.read_csv('ab_data.csv')\n",
        "data.head(10)"
      ]
    },
    {
      "cell_type": "code",
      "execution_count": 66,
      "metadata": {},
      "outputs": [
        {
          "data": {
            "text/plain": [
              "<Axes: xlabel='Conversion_A', ylabel='Density'>"
            ]
          },
          "execution_count": 66,
          "metadata": {},
          "output_type": "execute_result"
        },
        {
          "data": {
            "image/png": "[encoded data removed]",
            "text/plain": [
              "<Figure size 640x480 with 1 Axes>"
            ]
          },
          "metadata": {},
          "output_type": "display_data"
        }
      ],
      "source": [
        "sns.histplot(data.Conversion_A, kde=True, stat='density', linewidth=0, kde_kws=dict(cut=3))"
      ]
    },
    {
      "cell_type": "code",
      "execution_count": 67,
      "metadata": {},
      "outputs": [
        {
          "data": {
            "text/plain": [
              "<Axes: xlabel='Conversion_B', ylabel='Density'>"
            ]
          },
          "execution_count": 67,
          "metadata": {},
          "output_type": "execute_result"
        },
        {
          "data": {
            "image/png": "[encoded data removed]",
            "text/plain": [
              "<Figure size 640x480 with 1 Axes>"
            ]
          },
          "metadata": {},
          "output_type": "display_data"
        }
      ],
      "source": [
        "sns.histplot(data.Conversion_B, kde=True, stat='density', linewidth=0, kde_kws=dict(cut=3))"
      ]
    },
    {
      "cell_type": "code",
      "execution_count": 68,
      "metadata": {
        "colab": {
          "base_uri": "https://localhost:8080/"
        },
        "id": "Ir3B6VLfEnkA",
        "outputId": "cfce1c8d-247a-4028-9246-9638b99abdab"
      },
      "outputs": [
        {
          "data": {
            "text/plain": [
              "(-3.7873679309192934, 0.00019226786972932177, 53.99688197413233)"
            ]
          },
          "execution_count": 68,
          "metadata": {},
          "output_type": "execute_result"
        }
      ],
      "source": [
        "weightstats.ttest_ind(data.Conversion_A, data.Conversion_B, usevar='unequal', alternative='smaller')"
      ]
    },
    {
      "cell_type": "code",
      "execution_count": 69,
      "metadata": {
        "colab": {
          "base_uri": "https://localhost:8080/"
        },
        "id": "Es2OQfTVErJz",
        "outputId": "b3759668-3545-4e48-d2ed-b412723c8d8d"
      },
      "outputs": [
        {
          "data": {
            "text/plain": [
              "TtestResult(statistic=-3.78736793091929, pvalue=0.00019226786972932402, df=53.99688197413234)"
            ]
          },
          "execution_count": 69,
          "metadata": {},
          "output_type": "execute_result"
        }
      ],
      "source": [
        "stats.ttest_ind(data.Conversion_A, data.Conversion_B, equal_var=False, alternative='less')"
      ]
    },
    {
      "cell_type": "markdown",
      "metadata": {},
      "source": [
        "# BÀI TẬP"
      ]
    },
    {
      "cell_type": "markdown",
      "metadata": {},
      "source": [
        "## Đề Bài"
      ]
    },
    {
      "cell_type": "markdown",
      "metadata": {},
      "source": [
        "Kiểm định giả thuyết không có sự khác nhau về điểm trung bình giữa học sinh tham gia và không tham gia bài kiểm tra trước khoá học. Lựa chọn $\\alpha$ = 0.05.\n",
        "1. Hãy thực hiện theo ít nhất 1 trong những cách sau: sử dụng công thức (nếu được, tham khảo [Wikipedia](https://en.wikipedia.org/wiki/Student%27s_t-test#Equal_or_unequal_sample_sizes,_unequal_variances_(sX1_%3E_2sX2_or_sX2_%3E_2sX1))) và sử dụng thư viện.\n",
        "2. Vẽ phân bố xác suất tương ứng và vị trí của các điểm statistic và critical."
      ]
    },
    {
      "cell_type": "markdown",
      "metadata": {},
      "source": [
        "## Bài Làm"
      ]
    },
    {
      "cell_type": "markdown",
      "metadata": {},
      "source": [
        "### Bài 1"
      ]
    },
    {
      "cell_type": "code",
      "execution_count": 70,
      "metadata": {},
      "outputs": [
        {
          "data": {
            "text/plain": [
              "(8.594538326688614, 4.426725271318694e-17)"
            ]
          },
          "execution_count": 70,
          "metadata": {},
          "output_type": "execute_result"
        }
      ],
      "source": [
        "df['average_score'] = df[['math score', 'reading score', 'writing score']].mean(axis=1)\n",
        "group_completed = df[df['test preparation course'] == 'completed']['average_score']\n",
        "group_none = df[df['test preparation course'] == 'none']['average_score']\n",
        "\n",
        "t_stat, p_val = stats.ttest_ind(group_completed, group_none, equal_var=False)\n",
        "t_stat, p_val"
      ]
    },
    {
      "cell_type": "markdown",
      "metadata": {},
      "source": [
        "### Bài 2"
      ]
    },
    {
      "cell_type": "code",
      "execution_count": 71,
      "metadata": {},
      "outputs": [
        {
          "data": {
            "text/plain": [
              "<matplotlib.legend.Legend at 0x24d572c9550>"
            ]
          },
          "execution_count": 71,
          "metadata": {},
          "output_type": "execute_result"
        },
        {
          "data": {
            "image/png": "[encoded data removed]",
            "text/plain": [
              "<Figure size 800x600 with 1 Axes>"
            ]
          },
          "metadata": {},
          "output_type": "display_data"
        }
      ],
      "source": [
        "plt.figure(figsize=(8, 6))\n",
        "\n",
        "sns.histplot(group_completed, color='g', label='Completed test', kde=True)\n",
        "sns.histplot(group_none, color='r', label='None test', kde=True)\n",
        "\n",
        "plt.axvline(x=t_stat, color='b', label=f't-statistic = {t_stat:.2f}')\n",
        "\n",
        "plt.title('Distribution of Average Scores by Test Status')\n",
        "plt.xlabel('Average score')\n",
        "plt.legend()"
      ]
    }
  ],
  "metadata": {
    "colab": {
      "provenance": [],
      "toc_visible": true
    },
    "kernelspec": {
      "display_name": "Python 3",
      "name": "python3"
    },
    "language_info": {
      "codemirror_mode": {
        "name": "ipython",
        "version": 3
      },
      "file_extension": ".py",
      "mimetype": "text/x-python",
      "name": "python",
      "nbconvert_exporter": "python",
      "pygments_lexer": "ipython3",
      "version": "3.12.1"
    }
  },
  "nbformat": 4,
  "nbformat_minor": 0
}
